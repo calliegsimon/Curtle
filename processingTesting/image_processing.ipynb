{
 "cells": [
  {
   "cell_type": "markdown",
   "metadata": {},
   "source": [
    "# Practice for Image Processing Logic\n",
    "Using references from previous data wrangling labs and inclass1 to develop our functions for image processing."
   ]
  },
  {
   "cell_type": "code",
   "execution_count": 3,
   "metadata": {},
   "outputs": [],
   "source": [
    "#imports\n",
    "#importing os to deal with file system\n",
    "import os\n",
    "\n",
    "#imports for data wrangling\n",
    "import numpy as np\n",
    "import pandas as pd\n",
    "\n",
    "#imports to allow us to work with our images in matplot lib\n",
    "import matplotlib.pyplot as plt\n",
    "import matplotlib.image as mpimg\n",
    "\n",
    "#importing open CV\n",
    "try:\n",
    "    import cv2\n",
    "except:\n",
    "    !pip install opencv-python\n",
    "    import cv2\n",
    "\n",
    "#import Pillow\n",
    "try:\n",
    "    from PIL import Image, ImageFilter\n",
    "except:\n",
    "    !pip install opencv-python\n",
    "    from PIL import Image, ImageFilter\n"
   ]
  },
  {
   "cell_type": "markdown",
   "metadata": {},
   "source": [
    "# Thresholding\n",
    "Following the guide from InClass1, \n"
   ]
  },
  {
   "cell_type": "markdown",
   "metadata": {},
   "source": [
    "# Edge Detection\n",
    "\n",
    "\n",
    "Documentation: \n",
    "OpenCV - Canny Edge Detection Documentation:\n",
    "- https://docs.opencv.org/4.x/da/d22/tutorial_py_canny.html\n"
   ]
  },
  {
   "cell_type": "code",
   "execution_count": null,
   "metadata": {},
   "outputs": [],
   "source": []
  },
  {
   "cell_type": "markdown",
   "metadata": {},
   "source": [
    "# Contour Extraction"
   ]
  },
  {
   "cell_type": "markdown",
   "metadata": {},
   "source": [
    "Helpful Resources:\n",
    "- https://pyimagesearch.com/2021/05/12/adaptive-thresholding-with-opencv-cv2-adaptivethreshold/\n",
    "- https://pillow.readthedocs.io/en/stable/handbook/concepts.html#coordinate-system\n",
    "- "
   ]
  }
 ],
 "metadata": {
  "kernelspec": {
   "display_name": "base",
   "language": "python",
   "name": "python3"
  },
  "language_info": {
   "codemirror_mode": {
    "name": "ipython",
    "version": 3
   },
   "file_extension": ".py",
   "mimetype": "text/x-python",
   "name": "python",
   "nbconvert_exporter": "python",
   "pygments_lexer": "ipython3",
   "version": "3.12.4"
  }
 },
 "nbformat": 4,
 "nbformat_minor": 2
}
